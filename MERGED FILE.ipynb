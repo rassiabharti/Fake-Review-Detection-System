{
 "cells": [
  {
   "cell_type": "code",
   "execution_count": null,
   "id": "3e218217",
   "metadata": {},
   "outputs": [],
   "source": [
    "import nltk\n",
    "nltk.download('punkt')"
   ]
  },
  {
   "cell_type": "code",
   "execution_count": 58,
   "id": "0d0bb18c",
   "metadata": {},
   "outputs": [
    {
     "name": "stderr",
     "output_type": "stream",
     "text": [
      "[nltk_data] Downloading package wordnet to\n",
      "[nltk_data]     C:\\Users\\SIA\\AppData\\Roaming\\nltk_data...\n",
      "[nltk_data]   Package wordnet is already up-to-date!\n"
     ]
    }
   ],
   "source": [
    "import numpy as np\n",
    "import pandas as pd\n",
    "import seaborn as sns\n",
    "import matplotlib.pyplot as plt\n",
    "%matplotlib inline\n",
    "import warnings\n",
    "warnings.filterwarnings('ignore')\n",
    "from nltk.corpus import stopwords\n",
    "from sklearn.feature_extraction.text import TfidfTransformer, CountVectorizer\n",
    "from sklearn.metrics import classification_report, confusion_matrix, accuracy_score\n",
    "from sklearn.model_selection import train_test_split, GridSearchCV\n",
    "import string, nltk\n",
    "from nltk import word_tokenize\n",
    "from nltk.stem import PorterStemmer\n",
    "from nltk.stem import WordNetLemmatizer\n",
    "nltk.download('wordnet')\n",
    "from sklearn.naive_bayes import MultinomialNB\n",
    "from sklearn.pipeline import Pipeline\n",
    "from sklearn.ensemble import RandomForestClassifier\n",
    "from sklearn.tree import DecisionTreeClassifier\n",
    "from sklearn.neighbors import KNeighborsClassifier\n",
    "from sklearn.svm import SVC\n",
    "from sklearn.linear_model import LogisticRegression"
   ]
  },
  {
   "cell_type": "code",
   "execution_count": 59,
   "id": "89bc0916",
   "metadata": {},
   "outputs": [
    {
     "name": "stderr",
     "output_type": "stream",
     "text": [
      "[nltk_data] Downloading package omw-1.4 to\n",
      "[nltk_data]     C:\\Users\\SIA\\AppData\\Roaming\\nltk_data...\n",
      "[nltk_data]   Package omw-1.4 is already up-to-date!\n"
     ]
    },
    {
     "data": {
      "text/plain": [
       "True"
      ]
     },
     "execution_count": 59,
     "metadata": {},
     "output_type": "execute_result"
    }
   ],
   "source": [
    "nltk.download('omw-1.4')"
   ]
  },
  {
   "cell_type": "code",
   "execution_count": 60,
   "id": "d64a6940",
   "metadata": {},
   "outputs": [
    {
     "data": {
      "text/html": [
       "<div>\n",
       "<style scoped>\n",
       "    .dataframe tbody tr th:only-of-type {\n",
       "        vertical-align: middle;\n",
       "    }\n",
       "\n",
       "    .dataframe tbody tr th {\n",
       "        vertical-align: top;\n",
       "    }\n",
       "\n",
       "    .dataframe thead th {\n",
       "        text-align: right;\n",
       "    }\n",
       "</style>\n",
       "<table border=\"1\" class=\"dataframe\">\n",
       "  <thead>\n",
       "    <tr style=\"text-align: right;\">\n",
       "      <th></th>\n",
       "      <th>category</th>\n",
       "      <th>rating</th>\n",
       "      <th>label</th>\n",
       "      <th>text_</th>\n",
       "    </tr>\n",
       "  </thead>\n",
       "  <tbody>\n",
       "    <tr>\n",
       "      <th>0</th>\n",
       "      <td>Home_and_Kitchen_5</td>\n",
       "      <td>5.0</td>\n",
       "      <td>CG</td>\n",
       "      <td>Love this!  Well made, sturdy, and very comfor...</td>\n",
       "    </tr>\n",
       "    <tr>\n",
       "      <th>1</th>\n",
       "      <td>Home_and_Kitchen_5</td>\n",
       "      <td>5.0</td>\n",
       "      <td>CG</td>\n",
       "      <td>love it, a great upgrade from the original.  I...</td>\n",
       "    </tr>\n",
       "    <tr>\n",
       "      <th>2</th>\n",
       "      <td>Home_and_Kitchen_5</td>\n",
       "      <td>5.0</td>\n",
       "      <td>CG</td>\n",
       "      <td>This pillow saved my back. I love the look and...</td>\n",
       "    </tr>\n",
       "    <tr>\n",
       "      <th>3</th>\n",
       "      <td>Home_and_Kitchen_5</td>\n",
       "      <td>1.0</td>\n",
       "      <td>CG</td>\n",
       "      <td>Missing information on how to use it, but it i...</td>\n",
       "    </tr>\n",
       "    <tr>\n",
       "      <th>4</th>\n",
       "      <td>Home_and_Kitchen_5</td>\n",
       "      <td>5.0</td>\n",
       "      <td>CG</td>\n",
       "      <td>Very nice set. Good quality. We have had the s...</td>\n",
       "    </tr>\n",
       "  </tbody>\n",
       "</table>\n",
       "</div>"
      ],
      "text/plain": [
       "             category  rating label  \\\n",
       "0  Home_and_Kitchen_5     5.0    CG   \n",
       "1  Home_and_Kitchen_5     5.0    CG   \n",
       "2  Home_and_Kitchen_5     5.0    CG   \n",
       "3  Home_and_Kitchen_5     1.0    CG   \n",
       "4  Home_and_Kitchen_5     5.0    CG   \n",
       "\n",
       "                                               text_  \n",
       "0  Love this!  Well made, sturdy, and very comfor...  \n",
       "1  love it, a great upgrade from the original.  I...  \n",
       "2  This pillow saved my back. I love the look and...  \n",
       "3  Missing information on how to use it, but it i...  \n",
       "4  Very nice set. Good quality. We have had the s...  "
      ]
     },
     "execution_count": 60,
     "metadata": {},
     "output_type": "execute_result"
    }
   ],
   "source": [
    "df = pd.read_csv('fake reviews dataset.csv')\n",
    "df.head()"
   ]
  },
  {
   "cell_type": "code",
   "execution_count": 61,
   "id": "dac4d041",
   "metadata": {},
   "outputs": [
    {
     "data": {
      "text/plain": [
       "category    0\n",
       "rating      0\n",
       "label       0\n",
       "text_       0\n",
       "dtype: int64"
      ]
     },
     "execution_count": 61,
     "metadata": {},
     "output_type": "execute_result"
    }
   ],
   "source": [
    "df.isnull().sum()"
   ]
  },
  {
   "cell_type": "code",
   "execution_count": 62,
   "id": "a4ee1fec",
   "metadata": {},
   "outputs": [
    {
     "name": "stdout",
     "output_type": "stream",
     "text": [
      "<class 'pandas.core.frame.DataFrame'>\n",
      "RangeIndex: 40432 entries, 0 to 40431\n",
      "Data columns (total 4 columns):\n",
      " #   Column    Non-Null Count  Dtype  \n",
      "---  ------    --------------  -----  \n",
      " 0   category  40432 non-null  object \n",
      " 1   rating    40432 non-null  float64\n",
      " 2   label     40432 non-null  object \n",
      " 3   text_     40432 non-null  object \n",
      "dtypes: float64(1), object(3)\n",
      "memory usage: 1.2+ MB\n"
     ]
    }
   ],
   "source": [
    "df.info()"
   ]
  },
  {
   "cell_type": "code",
   "execution_count": 63,
   "id": "3b655bc0",
   "metadata": {},
   "outputs": [
    {
     "data": {
      "text/html": [
       "<div>\n",
       "<style scoped>\n",
       "    .dataframe tbody tr th:only-of-type {\n",
       "        vertical-align: middle;\n",
       "    }\n",
       "\n",
       "    .dataframe tbody tr th {\n",
       "        vertical-align: top;\n",
       "    }\n",
       "\n",
       "    .dataframe thead th {\n",
       "        text-align: right;\n",
       "    }\n",
       "</style>\n",
       "<table border=\"1\" class=\"dataframe\">\n",
       "  <thead>\n",
       "    <tr style=\"text-align: right;\">\n",
       "      <th></th>\n",
       "      <th>rating</th>\n",
       "    </tr>\n",
       "  </thead>\n",
       "  <tbody>\n",
       "    <tr>\n",
       "      <th>count</th>\n",
       "      <td>40432.000000</td>\n",
       "    </tr>\n",
       "    <tr>\n",
       "      <th>mean</th>\n",
       "      <td>4.256579</td>\n",
       "    </tr>\n",
       "    <tr>\n",
       "      <th>std</th>\n",
       "      <td>1.144354</td>\n",
       "    </tr>\n",
       "    <tr>\n",
       "      <th>min</th>\n",
       "      <td>1.000000</td>\n",
       "    </tr>\n",
       "    <tr>\n",
       "      <th>25%</th>\n",
       "      <td>4.000000</td>\n",
       "    </tr>\n",
       "    <tr>\n",
       "      <th>50%</th>\n",
       "      <td>5.000000</td>\n",
       "    </tr>\n",
       "    <tr>\n",
       "      <th>75%</th>\n",
       "      <td>5.000000</td>\n",
       "    </tr>\n",
       "    <tr>\n",
       "      <th>max</th>\n",
       "      <td>5.000000</td>\n",
       "    </tr>\n",
       "  </tbody>\n",
       "</table>\n",
       "</div>"
      ],
      "text/plain": [
       "             rating\n",
       "count  40432.000000\n",
       "mean       4.256579\n",
       "std        1.144354\n",
       "min        1.000000\n",
       "25%        4.000000\n",
       "50%        5.000000\n",
       "75%        5.000000\n",
       "max        5.000000"
      ]
     },
     "execution_count": 63,
     "metadata": {},
     "output_type": "execute_result"
    }
   ],
   "source": [
    "df.describe()"
   ]
  },
  {
   "cell_type": "code",
   "execution_count": 64,
   "id": "af3692cc",
   "metadata": {},
   "outputs": [
    {
     "data": {
      "text/plain": [
       "rating\n",
       "5.0    24559\n",
       "4.0     7965\n",
       "3.0     3786\n",
       "1.0     2155\n",
       "2.0     1967\n",
       "Name: count, dtype: int64"
      ]
     },
     "execution_count": 64,
     "metadata": {},
     "output_type": "execute_result"
    }
   ],
   "source": [
    "df['rating'].value_counts()"
   ]
  },
  {
   "cell_type": "code",
   "execution_count": 65,
   "id": "b8bb29c2",
   "metadata": {},
   "outputs": [
    {
     "data": {
      "image/png": "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
